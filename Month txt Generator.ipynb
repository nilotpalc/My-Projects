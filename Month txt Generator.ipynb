{
 "cells": [
  {
   "cell_type": "code",
   "execution_count": 97,
   "metadata": {},
   "outputs": [
    {
     "data": {
      "text/plain": [
       "'C:\\\\Users\\\\Nilotpal.Choudhury\\\\OneDrive - Shell\\\\Documents\\\\Trading & Supply\\\\2020\\\\G2G Report Analysis\\\\TT reporting Trend\\\\2020_G2G Analysis'"
      ]
     },
     "execution_count": 97,
     "metadata": {},
     "output_type": "execute_result"
    }
   ],
   "source": [
    "import os\n",
    "os.getcwd()\n",
    "\n",
    "# Change the directory to the relevant year folder\n",
    "os.chdir(r'C:\\\\Users\\\\Nilotpal.Choudhury\\\\OneDrive - Shell\\\\Documents\\\\Trading & Supply\\\\2020\\\\G2G Report Analysis\\\\TT reporting Trend\\\\2020_G2G Analysis')\n",
    "os.getcwd()"
   ]
  },
  {
   "cell_type": "code",
   "execution_count": 165,
   "metadata": {},
   "outputs": [
    {
     "data": {
      "text/plain": [
       "<bound method DataFrame.count of           Month Plant Date of Loading    Truck No Hauler  Depot In Depot Out  \\\n",
       "0    2020-05-01  I315      2020-05-01  GJ12BT5253   ARPL  09:43:00  15:10:00   \n",
       "1    2020-05-01  I315      2020-05-01  GJ12BV5604   ARPL  10:15:00  13:05:00   \n",
       "2    2020-05-01  I314      2020-05-02  GJ12BW1795   ARPL  08:28:00  15:58:00   \n",
       "3    2020-05-01  I314      2020-05-02  GJ12BW1795   ARPL  08:28:00  15:58:00   \n",
       "4    2020-05-01  I315      2020-05-02  GJ12BT4538   ARPL  08:48:00  13:06:00   \n",
       "...         ...   ...             ...         ...    ...       ...       ...   \n",
       "1315 2020-05-01  I309      2020-05-29  TN33BR0772    SVT  08:12:00  11:24:00   \n",
       "1316 2020-05-01  I309      2020-05-29   TN56M9219    SVT  11:33:00  16:03:00   \n",
       "1317 2020-05-01  I438      2020-05-30   TN86E4788    SVT  08:52:00  12:02:00   \n",
       "1318 2020-05-01  I438      2020-05-30   TN52Q5522    SVT  10:34:00  13:55:00   \n",
       "1319 2020-05-01  I437      2020-05-30  TN33BJ0407    SVT  08:11:00  12:17:00   \n",
       "\n",
       "     Depot G2G  \n",
       "0     05:27:00  \n",
       "1     02:50:00  \n",
       "2     07:30:00  \n",
       "3     07:30:00  \n",
       "4     04:18:00  \n",
       "...        ...  \n",
       "1315  03:12:00  \n",
       "1316  04:30:00  \n",
       "1317  03:10:00  \n",
       "1318  03:21:00  \n",
       "1319  04:06:00  \n",
       "\n",
       "[1320 rows x 8 columns]>"
      ]
     },
     "execution_count": 165,
     "metadata": {},
     "output_type": "execute_result"
    }
   ],
   "source": [
    "import pandas as pd\n",
    "import datetime\n",
    "import math\n",
    "\n",
    "da = pd.read_excel (\"G2G May'20.xlsx\", sheet_name=\"May'20\",header = 1,\n",
    "                    usecols=\"E:I,AB,AC,BB\")\n",
    "\n",
    "# Renaming all column headers\n",
    "da.set_axis(['Month', 'Plant', 'Date of Loading', 'Truck No','Hauler', 'Depot In','Depot Out','Depot G2G'],\n",
    "            axis='columns', inplace=True) \n",
    "da.count"
   ]
  },
  {
   "cell_type": "code",
   "execution_count": 166,
   "metadata": {},
   "outputs": [],
   "source": [
    "\"\"\" \n",
    "Replaces the time values in Depot G2G which might be incorrect as they might have been entered as integers +/- or\n",
    "incorrect time values across Depot G2G, Depot In and Depot Out columns\n",
    "\"\"\"\n",
    "\n",
    "for i in range(len(da)):\n",
    "    if isinstance(da.loc[i,'Depot G2G'],datetime.datetime):\n",
    "        if (da.loc[i,'Depot G2G']<datetime.datetime(1899,12,31,0,0,0)) or (da.loc[i,'Depot G2G']>datetime.datetime(1899,12,31,23,59,59)):\n",
    "            da.loc[i,'Depot G2G'] = math.nan\n",
    "        else:\n",
    "            pass\n",
    "    else:\n",
    "        if isinstance(da.loc[i,'Depot G2G'],datetime.time) == False:\n",
    "            da.loc[i,'Depot G2G'] = math.nan\n",
    "        else:\n",
    "            pass\n",
    "\n",
    "for i in range(len(da)):\n",
    "    if isinstance(da.loc[i,'Depot In'],datetime.time)== False:\n",
    "        da.loc[i,'Depot In'] = math.nan\n",
    "    else:\n",
    "        pass\n",
    "\n",
    "for i in range(len(da)):\n",
    "    if isinstance(da.loc[i,'Depot Out'],datetime.time)== False:\n",
    "        da.loc[i,'Depot In'] = math.nan\n",
    "    else:\n",
    "        pass\n",
    "\n",
    "# Ensuring the month and loading dates are in date formats only\n",
    "for i in range(len(da)):\n",
    "    if isinstance(da.loc[i,'Month'],datetime.datetime):\n",
    "        da.loc[i,'Month'] = da.loc[i,'Month'].date()\n",
    "    else:\n",
    "        if isinstance(da.loc[i,'Month'],datetime.date) == False:\n",
    "            da.loc[i,'Month'] = math.nan\n",
    "        else:\n",
    "            pass\n",
    "        \n",
    "for i in range(len(da)):\n",
    "    if isinstance(da.loc[i,'Date of Loading'],datetime.datetime):\n",
    "        da.loc[i,'Date of Loading'] = da.loc[i,'Date of Loading'].date()\n",
    "    else:\n",
    "        if isinstance(da.loc[i,'Date of Loading'],datetime.date) == False:\n",
    "            da.loc[i,'Date of Loading'] = math.nan\n",
    "        else:\n",
    "            pass"
   ]
  },
  {
   "cell_type": "code",
   "execution_count": 167,
   "metadata": {
    "scrolled": true
   },
   "outputs": [
    {
     "name": "stdout",
     "output_type": "stream",
     "text": [
      "Empty DataFrame\n",
      "Columns: [Month, Plant, Date of Loading, Truck No, Hauler, Depot In, Depot Out, Depot G2G]\n",
      "Index: []\n",
      "Month              0\n",
      "Plant              0\n",
      "Date of Loading    0\n",
      "Truck No           0\n",
      "Hauler             0\n",
      "Depot In           0\n",
      "Depot Out          0\n",
      "Depot G2G          0\n",
      "dtype: int64\n"
     ]
    }
   ],
   "source": [
    "print(da[da.isna().any(axis=1)])\n",
    "print(da[da.isna().any(axis=1)].count())"
   ]
  },
  {
   "cell_type": "code",
   "execution_count": 168,
   "metadata": {
    "scrolled": true
   },
   "outputs": [
    {
     "data": {
      "text/plain": [
       "<bound method DataFrame.count of            Month Plant Date of Loading    Truck No Hauler  Depot In Depot Out  \\\n",
       "0     2020-05-01  I315      2020-05-01  GJ12BT5253   ARPL  09:43:00  15:10:00   \n",
       "1     2020-05-01  I315      2020-05-01  GJ12BV5604   ARPL  10:15:00  13:05:00   \n",
       "2     2020-05-01  I314      2020-05-02  GJ12BW1795   ARPL  08:28:00  15:58:00   \n",
       "3     2020-05-01  I314      2020-05-02  GJ12BW1795   ARPL  08:28:00  15:58:00   \n",
       "4     2020-05-01  I315      2020-05-02  GJ12BT4538   ARPL  08:48:00  13:06:00   \n",
       "...          ...   ...             ...         ...    ...       ...       ...   \n",
       "1315  2020-05-01  I309      2020-05-29  TN33BR0772    SVT  08:12:00  11:24:00   \n",
       "1316  2020-05-01  I309      2020-05-29   TN56M9219    SVT  11:33:00  16:03:00   \n",
       "1317  2020-05-01  I438      2020-05-30   TN86E4788    SVT  08:52:00  12:02:00   \n",
       "1318  2020-05-01  I438      2020-05-30   TN52Q5522    SVT  10:34:00  13:55:00   \n",
       "1319  2020-05-01  I437      2020-05-30  TN33BJ0407    SVT  08:11:00  12:17:00   \n",
       "\n",
       "     Depot G2G  \n",
       "0     05:27:00  \n",
       "1     02:50:00  \n",
       "2     07:30:00  \n",
       "3     07:30:00  \n",
       "4     04:18:00  \n",
       "...        ...  \n",
       "1315  03:12:00  \n",
       "1316  04:30:00  \n",
       "1317  03:10:00  \n",
       "1318  03:21:00  \n",
       "1319  04:06:00  \n",
       "\n",
       "[1320 rows x 8 columns]>"
      ]
     },
     "execution_count": 168,
     "metadata": {},
     "output_type": "execute_result"
    }
   ],
   "source": [
    "# drop all row values containing NaN\n",
    "da.dropna (inplace=True)\n",
    "da.count"
   ]
  },
  {
   "cell_type": "code",
   "execution_count": 169,
   "metadata": {},
   "outputs": [
    {
     "data": {
      "text/plain": [
       "<bound method DataFrame.count of            Month Plant Date of Loading    Truck No Hauler  Depot In Depot Out  \\\n",
       "0     2020-05-01  I315      2020-05-01  GJ12BT5253   ARPL  09:43:00  15:10:00   \n",
       "1     2020-05-01  I315      2020-05-01  GJ12BV5604   ARPL  10:15:00  13:05:00   \n",
       "2     2020-05-01  I314      2020-05-02  GJ12BW1795   ARPL  08:28:00  15:58:00   \n",
       "4     2020-05-01  I315      2020-05-02  GJ12BT4538   ARPL  08:48:00  13:06:00   \n",
       "5     2020-05-01  I314      2020-05-02  GJ12AZ9809   ARPL  08:31:00  16:23:00   \n",
       "...          ...   ...             ...         ...    ...       ...       ...   \n",
       "1315  2020-05-01  I309      2020-05-29  TN33BR0772    SVT  08:12:00  11:24:00   \n",
       "1316  2020-05-01  I309      2020-05-29   TN56M9219    SVT  11:33:00  16:03:00   \n",
       "1317  2020-05-01  I438      2020-05-30   TN86E4788    SVT  08:52:00  12:02:00   \n",
       "1318  2020-05-01  I438      2020-05-30   TN52Q5522    SVT  10:34:00  13:55:00   \n",
       "1319  2020-05-01  I437      2020-05-30  TN33BJ0407    SVT  08:11:00  12:17:00   \n",
       "\n",
       "     Depot G2G  \n",
       "0     05:27:00  \n",
       "1     02:50:00  \n",
       "2     07:30:00  \n",
       "4     04:18:00  \n",
       "5     07:52:00  \n",
       "...        ...  \n",
       "1315  03:12:00  \n",
       "1316  04:30:00  \n",
       "1317  03:10:00  \n",
       "1318  03:21:00  \n",
       "1319  04:06:00  \n",
       "\n",
       "[968 rows x 8 columns]>"
      ]
     },
     "execution_count": 169,
     "metadata": {},
     "output_type": "execute_result"
    }
   ],
   "source": [
    "# drop all duplicates\n",
    "da.drop_duplicates(inplace=True)\n",
    "da.count"
   ]
  },
  {
   "cell_type": "code",
   "execution_count": 170,
   "metadata": {},
   "outputs": [],
   "source": [
    "path = \"C:\\\\Users\\\\Nilotpal.Choudhury\\\\OneDrive - Shell\\\\Documents\\\\Trading & Supply\\\\2020\\\\G2G Report Analysis\\\\Data Model\\\\Monthly Data Files\\\\2020\\\\\"\n",
    "da.to_csv(path+\"May-20.csv\",index=False)"
   ]
  }
 ],
 "metadata": {
  "kernelspec": {
   "display_name": "Python 3",
   "language": "python",
   "name": "python3"
  },
  "language_info": {
   "codemirror_mode": {
    "name": "ipython",
    "version": 3
   },
   "file_extension": ".py",
   "mimetype": "text/x-python",
   "name": "python",
   "nbconvert_exporter": "python",
   "pygments_lexer": "ipython3",
   "version": "3.8.5"
  }
 },
 "nbformat": 4,
 "nbformat_minor": 4
}
