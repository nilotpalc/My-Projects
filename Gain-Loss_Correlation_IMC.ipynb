{
 "cells": [
  {
   "cell_type": "code",
   "execution_count": 261,
   "metadata": {},
   "outputs": [],
   "source": [
    "import numpy as np\n",
    "import pandas as pd\n",
    "import matplotlib.pyplot as plt\n",
    "%matplotlib inline"
   ]
  },
  {
   "cell_type": "code",
   "execution_count": 262,
   "metadata": {},
   "outputs": [],
   "source": [
    "dataset = pd.read_excel(\"Tank wise GL from 2018 to 2020.xlsx\",sheet_name=\"Sheet1\",usecols=\"B,E:G,J,K,M,N:P\",header=0)"
   ]
  },
  {
   "cell_type": "code",
   "execution_count": 263,
   "metadata": {},
   "outputs": [],
   "source": [
    "dataset.dropna(axis=0,inplace=True)"
   ]
  },
  {
   "cell_type": "code",
   "execution_count": 264,
   "metadata": {},
   "outputs": [
    {
     "data": {
      "text/plain": [
       "Index(['Tank Cap', 'OP L15', 'RE L15', 'DE L15', 'LG L15', 'LG% L15',\n",
       "       'Loss/(Gain) % L15', 'Product_Grade', 'Hot Months', 'Gain/Loss'],\n",
       "      dtype='object')"
      ]
     },
     "execution_count": 264,
     "metadata": {},
     "output_type": "execute_result"
    }
   ],
   "source": [
    "dataset.columns"
   ]
  },
  {
   "cell_type": "code",
   "execution_count": 265,
   "metadata": {},
   "outputs": [],
   "source": [
    "zz = dataset[dataset[\"Product_Grade\"]==\"MS\"]"
   ]
  },
  {
   "cell_type": "code",
   "execution_count": 266,
   "metadata": {},
   "outputs": [],
   "source": [
    "X = zz.drop(columns=[\"Product_Grade\",\"Gain/Loss\",\"LG% L15\",\"Loss/(Gain) % L15\",\"LG L15\"],axis=1)\n",
    "y = zz[\"LG L15\"]"
   ]
  },
  {
   "cell_type": "code",
   "execution_count": 267,
   "metadata": {},
   "outputs": [
    {
     "data": {
      "text/plain": [
       "array([[1.        , 0.16527037],\n",
       "       [0.16527037, 1.        ]])"
      ]
     },
     "execution_count": 267,
     "metadata": {},
     "output_type": "execute_result"
    }
   ],
   "source": [
    "np.corrcoef(zz[\"LG L15\"],zz[\"Tank Cap\"])"
   ]
  },
  {
   "cell_type": "code",
   "execution_count": 268,
   "metadata": {},
   "outputs": [
    {
     "data": {
      "text/plain": [
       "array([[1.        , 0.12907212],\n",
       "       [0.12907212, 1.        ]])"
      ]
     },
     "execution_count": 268,
     "metadata": {},
     "output_type": "execute_result"
    }
   ],
   "source": [
    "np.corrcoef(zz[\"LG L15\"],zz[\"OP L15\"])"
   ]
  },
  {
   "cell_type": "code",
   "execution_count": 269,
   "metadata": {},
   "outputs": [
    {
     "data": {
      "text/plain": [
       "array([[1.        , 0.48892916],\n",
       "       [0.48892916, 1.        ]])"
      ]
     },
     "execution_count": 269,
     "metadata": {},
     "output_type": "execute_result"
    }
   ],
   "source": [
    "np.corrcoef(zz[\"LG L15\"],zz[\"RE L15\"])"
   ]
  },
  {
   "cell_type": "code",
   "execution_count": 270,
   "metadata": {},
   "outputs": [
    {
     "data": {
      "text/plain": [
       "array([[1.        , 0.75127874],\n",
       "       [0.75127874, 1.        ]])"
      ]
     },
     "execution_count": 270,
     "metadata": {},
     "output_type": "execute_result"
    }
   ],
   "source": [
    "np.corrcoef(zz[\"LG L15\"],zz[\"DE L15\"])"
   ]
  },
  {
   "cell_type": "code",
   "execution_count": 271,
   "metadata": {},
   "outputs": [],
   "source": [
    "from sklearn.model_selection import train_test_split\n",
    "X_train, X_test, y_train, y_test = train_test_split(X, y, test_size=0.7, random_state=101)"
   ]
  },
  {
   "cell_type": "code",
   "execution_count": 272,
   "metadata": {},
   "outputs": [
    {
     "data": {
      "text/plain": [
       "LinearRegression()"
      ]
     },
     "execution_count": 272,
     "metadata": {},
     "output_type": "execute_result"
    }
   ],
   "source": [
    "from sklearn.linear_model import LinearRegression\n",
    "lm = LinearRegression()\n",
    "lm.fit(X_train,y_train)"
   ]
  },
  {
   "cell_type": "code",
   "execution_count": 273,
   "metadata": {},
   "outputs": [],
   "source": [
    "predictions = lm.predict(X_test)"
   ]
  },
  {
   "cell_type": "code",
   "execution_count": 274,
   "metadata": {},
   "outputs": [
    {
     "data": {
      "text/plain": [
       "<matplotlib.collections.PathCollection at 0x18eb2c6cbb0>"
      ]
     },
     "execution_count": 274,
     "metadata": {},
     "output_type": "execute_result"
    },
    {
     "data": {
      "image/png": "[encoded data removed]",
      "text/plain": [
       "<Figure size 432x288 with 1 Axes>"
      ]
     },
     "metadata": {
      "needs_background": "light"
     },
     "output_type": "display_data"
    }
   ],
   "source": [
    "plt.scatter(y_test,predictions)"
   ]
  },
  {
   "cell_type": "code",
   "execution_count": 275,
   "metadata": {},
   "outputs": [
    {
     "data": {
      "text/plain": [
       "array([[1.        , 0.71348341],\n",
       "       [0.71348341, 1.        ]])"
      ]
     },
     "execution_count": 275,
     "metadata": {},
     "output_type": "execute_result"
    }
   ],
   "source": [
    "np.corrcoef(y_test,predictions)"
   ]
  },
  {
   "cell_type": "code",
   "execution_count": 276,
   "metadata": {},
   "outputs": [
    {
     "name": "stdout",
     "output_type": "stream",
     "text": [
      "-0.5541594031232469\n"
     ]
    },
    {
     "data": {
      "text/html": [
       "<div>\n",
       "<style scoped>\n",
       "    .dataframe tbody tr th:only-of-type {\n",
       "        vertical-align: middle;\n",
       "    }\n",
       "\n",
       "    .dataframe tbody tr th {\n",
       "        vertical-align: top;\n",
       "    }\n",
       "\n",
       "    .dataframe thead th {\n",
       "        text-align: right;\n",
       "    }\n",
       "</style>\n",
       "<table border=\"1\" class=\"dataframe\">\n",
       "  <thead>\n",
       "    <tr style=\"text-align: right;\">\n",
       "      <th></th>\n",
       "      <th>Coefficient</th>\n",
       "    </tr>\n",
       "  </thead>\n",
       "  <tbody>\n",
       "    <tr>\n",
       "      <th>Tank Cap</th>\n",
       "      <td>0.000133</td>\n",
       "    </tr>\n",
       "    <tr>\n",
       "      <th>OP L15</th>\n",
       "      <td>-0.000866</td>\n",
       "    </tr>\n",
       "    <tr>\n",
       "      <th>RE L15</th>\n",
       "      <td>0.000035</td>\n",
       "    </tr>\n",
       "    <tr>\n",
       "      <th>DE L15</th>\n",
       "      <td>0.002145</td>\n",
       "    </tr>\n",
       "    <tr>\n",
       "      <th>Hot Months</th>\n",
       "      <td>0.683505</td>\n",
       "    </tr>\n",
       "  </tbody>\n",
       "</table>\n",
       "</div>"
      ],
      "text/plain": [
       "            Coefficient\n",
       "Tank Cap       0.000133\n",
       "OP L15        -0.000866\n",
       "RE L15         0.000035\n",
       "DE L15         0.002145\n",
       "Hot Months     0.683505"
      ]
     },
     "execution_count": 276,
     "metadata": {},
     "output_type": "execute_result"
    }
   ],
   "source": [
    "print(lm.intercept_)\n",
    "coeff_df = pd.DataFrame(lm.coef_,X.columns,columns=['Coefficient'])\n",
    "coeff_df"
   ]
  },
  {
   "cell_type": "code",
   "execution_count": 277,
   "metadata": {},
   "outputs": [],
   "source": [
    "from sklearn import metrics"
   ]
  },
  {
   "cell_type": "code",
   "execution_count": 278,
   "metadata": {},
   "outputs": [
    {
     "name": "stdout",
     "output_type": "stream",
     "text": [
      "MAE: 0.9813294774917166\n",
      "MSE: 2.100962295768091\n",
      "RMSE: 1.44946966017509\n"
     ]
    }
   ],
   "source": [
    "print('MAE:', metrics.mean_absolute_error(y_test, predictions))\n",
    "print('MSE:', metrics.mean_squared_error(y_test, predictions))\n",
    "print('RMSE:', np.sqrt(metrics.mean_squared_error(y_test, predictions)))"
   ]
  },
  {
   "cell_type": "code",
   "execution_count": 279,
   "metadata": {},
   "outputs": [],
   "source": [
    "import statsmodels.api as sm"
   ]
  },
  {
   "cell_type": "code",
   "execution_count": 280,
   "metadata": {},
   "outputs": [
    {
     "name": "stdout",
     "output_type": "stream",
     "text": [
      "                            OLS Regression Results                            \n",
      "==============================================================================\n",
      "Dep. Variable:                 LG L15   R-squared:                       0.585\n",
      "Model:                            OLS   Adj. R-squared:                  0.571\n",
      "Method:                 Least Squares   F-statistic:                     43.08\n",
      "Date:                Tue, 10 Nov 2020   Prob (F-statistic):           1.49e-27\n",
      "Time:                        21:50:21   Log-Likelihood:                -272.29\n",
      "No. Observations:                 159   AIC:                             556.6\n",
      "Df Residuals:                     153   BIC:                             575.0\n",
      "Df Model:                           5                                         \n",
      "Covariance Type:            nonrobust                                         \n",
      "==============================================================================\n",
      "                 coef    std err          t      P>|t|      [0.025      0.975]\n",
      "------------------------------------------------------------------------------\n",
      "const         -0.4205      0.570     -0.738      0.462      -1.546       0.705\n",
      "Tank Cap       0.0001      0.000      0.307      0.759      -0.001       0.001\n",
      "OP L15        -0.0006      0.000     -2.416      0.017      -0.001      -0.000\n",
      "RE L15        -0.0002      0.000     -1.182      0.239      -0.001       0.000\n",
      "DE L15         0.0021      0.000     10.373      0.000       0.002       0.003\n",
      "Hot Months     0.2563      0.242      1.060      0.291      -0.221       0.734\n",
      "==============================================================================\n",
      "Omnibus:                       60.465   Durbin-Watson:                   1.963\n",
      "Prob(Omnibus):                  0.000   Jarque-Bera (JB):              275.045\n",
      "Skew:                          -1.327   Prob(JB):                     1.88e-60\n",
      "Kurtosis:                       8.871   Cond. No.                     1.48e+04\n",
      "==============================================================================\n",
      "\n",
      "Notes:\n",
      "[1] Standard Errors assume that the covariance matrix of the errors is correctly specified.\n",
      "[2] The condition number is large, 1.48e+04. This might indicate that there are\n",
      "strong multicollinearity or other numerical problems.\n"
     ]
    }
   ],
   "source": [
    "X = sm.add_constant(X)\n",
    "model = sm.OLS(y,X)\n",
    "results = model.fit()\n",
    "print(results.summary())"
   ]
  },
  {
   "cell_type": "code",
   "execution_count": 281,
   "metadata": {},
   "outputs": [],
   "source": [
    "datafr = pd.read_excel(\"TRECS India Plant Reports JAN 2018 TO AUG 2020.xlsx\",sheet_name=\"IMC\",header=0,usecols=\"D:O,R\")"
   ]
  },
  {
   "cell_type": "code",
   "execution_count": 282,
   "metadata": {},
   "outputs": [],
   "source": [
    "MS_filter = datafr[\"Product_Grade\"].isin([\"MS\"])\n",
    "HSD_filter = datafr[\"Product_Grade\"].isin([\"HSD\"])"
   ]
  },
  {
   "cell_type": "code",
   "execution_count": 283,
   "metadata": {},
   "outputs": [
    {
     "data": {
      "text/plain": [
       "Index(['TerminalProductCode', 'TerminalProductDesc', 'OpeningStock',\n",
       "       'OpeningStockTemp', 'OpeningStockDensity', 'Receipt', 'Disposal',\n",
       "       'ClosingStock', 'ClosingStockTemp', 'ClosingStockDensity', 'BookStock',\n",
       "       'Gain', 'Product_Grade'],\n",
       "      dtype='object')"
      ]
     },
     "execution_count": 283,
     "metadata": {},
     "output_type": "execute_result"
    }
   ],
   "source": [
    "datafr[MS_filter].columns"
   ]
  },
  {
   "cell_type": "code",
   "execution_count": 284,
   "metadata": {},
   "outputs": [
    {
     "data": {
      "text/html": [
       "<div>\n",
       "<style scoped>\n",
       "    .dataframe tbody tr th:only-of-type {\n",
       "        vertical-align: middle;\n",
       "    }\n",
       "\n",
       "    .dataframe tbody tr th {\n",
       "        vertical-align: top;\n",
       "    }\n",
       "\n",
       "    .dataframe thead th {\n",
       "        text-align: right;\n",
       "    }\n",
       "</style>\n",
       "<table border=\"1\" class=\"dataframe\">\n",
       "  <thead>\n",
       "    <tr style=\"text-align: right;\">\n",
       "      <th></th>\n",
       "      <th>TerminalProductCode</th>\n",
       "      <th>TerminalProductDesc</th>\n",
       "      <th>OpeningStock</th>\n",
       "      <th>OpeningStockTemp</th>\n",
       "      <th>OpeningStockDensity</th>\n",
       "      <th>Receipt</th>\n",
       "      <th>Disposal</th>\n",
       "      <th>ClosingStock</th>\n",
       "      <th>ClosingStockTemp</th>\n",
       "      <th>ClosingStockDensity</th>\n",
       "      <th>BookStock</th>\n",
       "      <th>Gain</th>\n",
       "      <th>Product_Grade</th>\n",
       "    </tr>\n",
       "  </thead>\n",
       "  <tbody>\n",
       "    <tr>\n",
       "      <th>0</th>\n",
       "      <td>400004346</td>\n",
       "      <td>BF MS BSIV</td>\n",
       "      <td>1974538</td>\n",
       "      <td>32.00</td>\n",
       "      <td>737.4</td>\n",
       "      <td>0</td>\n",
       "      <td>160574.482</td>\n",
       "      <td>1814289</td>\n",
       "      <td>32.00</td>\n",
       "      <td>737.4</td>\n",
       "      <td>1813963.517</td>\n",
       "      <td>325.482</td>\n",
       "      <td>MS</td>\n",
       "    </tr>\n",
       "    <tr>\n",
       "      <th>1</th>\n",
       "      <td>400004346</td>\n",
       "      <td>BF MS BSIV</td>\n",
       "      <td>1064414</td>\n",
       "      <td>32.00</td>\n",
       "      <td>737.4</td>\n",
       "      <td>0</td>\n",
       "      <td>377876.023</td>\n",
       "      <td>686380</td>\n",
       "      <td>32.25</td>\n",
       "      <td>737.4</td>\n",
       "      <td>686537.976</td>\n",
       "      <td>-157.976</td>\n",
       "      <td>MS</td>\n",
       "    </tr>\n",
       "    <tr>\n",
       "      <th>2</th>\n",
       "      <td>400004346</td>\n",
       "      <td>BF MS BSIV</td>\n",
       "      <td>686380</td>\n",
       "      <td>32.25</td>\n",
       "      <td>737.4</td>\n",
       "      <td>0</td>\n",
       "      <td>315245.607</td>\n",
       "      <td>371069</td>\n",
       "      <td>32.50</td>\n",
       "      <td>737.4</td>\n",
       "      <td>371134.392</td>\n",
       "      <td>-65.392</td>\n",
       "      <td>MS</td>\n",
       "    </tr>\n",
       "    <tr>\n",
       "      <th>3</th>\n",
       "      <td>400004346</td>\n",
       "      <td>BF MS BSIV</td>\n",
       "      <td>1953728</td>\n",
       "      <td>31.00</td>\n",
       "      <td>736.4</td>\n",
       "      <td>0</td>\n",
       "      <td>0.000</td>\n",
       "      <td>1953588</td>\n",
       "      <td>31.00</td>\n",
       "      <td>736.4</td>\n",
       "      <td>1953728.000</td>\n",
       "      <td>-140.000</td>\n",
       "      <td>MS</td>\n",
       "    </tr>\n",
       "    <tr>\n",
       "      <th>4</th>\n",
       "      <td>400004346</td>\n",
       "      <td>BF MS BSIV</td>\n",
       "      <td>1953588</td>\n",
       "      <td>31.00</td>\n",
       "      <td>736.4</td>\n",
       "      <td>0</td>\n",
       "      <td>46965.097</td>\n",
       "      <td>1907107</td>\n",
       "      <td>31.00</td>\n",
       "      <td>736.4</td>\n",
       "      <td>1906622.902</td>\n",
       "      <td>484.097</td>\n",
       "      <td>MS</td>\n",
       "    </tr>\n",
       "    <tr>\n",
       "      <th>...</th>\n",
       "      <td>...</td>\n",
       "      <td>...</td>\n",
       "      <td>...</td>\n",
       "      <td>...</td>\n",
       "      <td>...</td>\n",
       "      <td>...</td>\n",
       "      <td>...</td>\n",
       "      <td>...</td>\n",
       "      <td>...</td>\n",
       "      <td>...</td>\n",
       "      <td>...</td>\n",
       "      <td>...</td>\n",
       "      <td>...</td>\n",
       "    </tr>\n",
       "    <tr>\n",
       "      <th>4055</th>\n",
       "      <td>400004346</td>\n",
       "      <td>BF MS BSIV</td>\n",
       "      <td>784568</td>\n",
       "      <td>32.75</td>\n",
       "      <td>735.4</td>\n",
       "      <td>0</td>\n",
       "      <td>189885.081</td>\n",
       "      <td>594776</td>\n",
       "      <td>32.50</td>\n",
       "      <td>735.4</td>\n",
       "      <td>594682.918</td>\n",
       "      <td>93.081</td>\n",
       "      <td>MS</td>\n",
       "    </tr>\n",
       "    <tr>\n",
       "      <th>4056</th>\n",
       "      <td>400004346</td>\n",
       "      <td>BF MS BSIV</td>\n",
       "      <td>594776</td>\n",
       "      <td>32.50</td>\n",
       "      <td>735.4</td>\n",
       "      <td>0</td>\n",
       "      <td>156599.145</td>\n",
       "      <td>438160</td>\n",
       "      <td>32.75</td>\n",
       "      <td>735.4</td>\n",
       "      <td>438176.854</td>\n",
       "      <td>-16.854</td>\n",
       "      <td>MS</td>\n",
       "    </tr>\n",
       "    <tr>\n",
       "      <th>4057</th>\n",
       "      <td>400004346</td>\n",
       "      <td>BF MS BSIV</td>\n",
       "      <td>1975720</td>\n",
       "      <td>33.25</td>\n",
       "      <td>735.5</td>\n",
       "      <td>384673</td>\n",
       "      <td>731204.506</td>\n",
       "      <td>1629121</td>\n",
       "      <td>33.00</td>\n",
       "      <td>733.5</td>\n",
       "      <td>1629188.493</td>\n",
       "      <td>-67.493</td>\n",
       "      <td>MS</td>\n",
       "    </tr>\n",
       "    <tr>\n",
       "      <th>4058</th>\n",
       "      <td>400004346</td>\n",
       "      <td>BF MS BSIV</td>\n",
       "      <td>187882</td>\n",
       "      <td>32.25</td>\n",
       "      <td>735.1</td>\n",
       "      <td>1087992</td>\n",
       "      <td>0.000</td>\n",
       "      <td>1276243</td>\n",
       "      <td>33.25</td>\n",
       "      <td>731.1</td>\n",
       "      <td>1275874.000</td>\n",
       "      <td>369.000</td>\n",
       "      <td>MS</td>\n",
       "    </tr>\n",
       "    <tr>\n",
       "      <th>4060</th>\n",
       "      <td>400004346</td>\n",
       "      <td>BF MS BSIV</td>\n",
       "      <td>1795016</td>\n",
       "      <td>33.00</td>\n",
       "      <td>734.7</td>\n",
       "      <td>0</td>\n",
       "      <td>1234215.907</td>\n",
       "      <td>561774</td>\n",
       "      <td>34.00</td>\n",
       "      <td>734.7</td>\n",
       "      <td>560800.092</td>\n",
       "      <td>973.907</td>\n",
       "      <td>MS</td>\n",
       "    </tr>\n",
       "  </tbody>\n",
       "</table>\n",
       "<p>1155 rows × 13 columns</p>\n",
       "</div>"
      ],
      "text/plain": [
       "      TerminalProductCode TerminalProductDesc  OpeningStock  OpeningStockTemp  \\\n",
       "0               400004346          BF MS BSIV       1974538             32.00   \n",
       "1               400004346          BF MS BSIV       1064414             32.00   \n",
       "2               400004346          BF MS BSIV        686380             32.25   \n",
       "3               400004346          BF MS BSIV       1953728             31.00   \n",
       "4               400004346          BF MS BSIV       1953588             31.00   \n",
       "...                   ...                 ...           ...               ...   \n",
       "4055            400004346          BF MS BSIV        784568             32.75   \n",
       "4056            400004346          BF MS BSIV        594776             32.50   \n",
       "4057            400004346          BF MS BSIV       1975720             33.25   \n",
       "4058            400004346          BF MS BSIV        187882             32.25   \n",
       "4060            400004346          BF MS BSIV       1795016             33.00   \n",
       "\n",
       "      OpeningStockDensity  Receipt     Disposal  ClosingStock  \\\n",
       "0                   737.4        0   160574.482       1814289   \n",
       "1                   737.4        0   377876.023        686380   \n",
       "2                   737.4        0   315245.607        371069   \n",
       "3                   736.4        0        0.000       1953588   \n",
       "4                   736.4        0    46965.097       1907107   \n",
       "...                   ...      ...          ...           ...   \n",
       "4055                735.4        0   189885.081        594776   \n",
       "4056                735.4        0   156599.145        438160   \n",
       "4057                735.5   384673   731204.506       1629121   \n",
       "4058                735.1  1087992        0.000       1276243   \n",
       "4060                734.7        0  1234215.907        561774   \n",
       "\n",
       "      ClosingStockTemp  ClosingStockDensity    BookStock     Gain  \\\n",
       "0                32.00                737.4  1813963.517  325.482   \n",
       "1                32.25                737.4   686537.976 -157.976   \n",
       "2                32.50                737.4   371134.392  -65.392   \n",
       "3                31.00                736.4  1953728.000 -140.000   \n",
       "4                31.00                736.4  1906622.902  484.097   \n",
       "...                ...                  ...          ...      ...   \n",
       "4055             32.50                735.4   594682.918   93.081   \n",
       "4056             32.75                735.4   438176.854  -16.854   \n",
       "4057             33.00                733.5  1629188.493  -67.493   \n",
       "4058             33.25                731.1  1275874.000  369.000   \n",
       "4060             34.00                734.7   560800.092  973.907   \n",
       "\n",
       "     Product_Grade  \n",
       "0               MS  \n",
       "1               MS  \n",
       "2               MS  \n",
       "3               MS  \n",
       "4               MS  \n",
       "...            ...  \n",
       "4055            MS  \n",
       "4056            MS  \n",
       "4057            MS  \n",
       "4058            MS  \n",
       "4060            MS  \n",
       "\n",
       "[1155 rows x 13 columns]"
      ]
     },
     "execution_count": 284,
     "metadata": {},
     "output_type": "execute_result"
    }
   ],
   "source": [
    "datafr[MS_filter]"
   ]
  },
  {
   "cell_type": "code",
   "execution_count": 292,
   "metadata": {},
   "outputs": [],
   "source": [
    "xx=datafr[MS_filter].drop(columns=['TerminalProductCode', 'TerminalProductDesc','Product_Grade','ClosingStock','BookStock','Gain','OpeningStockTemp'],axis=1)\n",
    "yy = datafr[MS_filter]['Gain']"
   ]
  },
  {
   "cell_type": "code",
   "execution_count": 293,
   "metadata": {},
   "outputs": [
    {
     "name": "stdout",
     "output_type": "stream",
     "text": [
      "                            OLS Regression Results                            \n",
      "==============================================================================\n",
      "Dep. Variable:                   Gain   R-squared:                       0.104\n",
      "Model:                            OLS   Adj. R-squared:                  0.100\n",
      "Method:                 Least Squares   F-statistic:                     22.31\n",
      "Date:                Tue, 10 Nov 2020   Prob (F-statistic):           5.91e-25\n",
      "Time:                        22:23:10   Log-Likelihood:                -8140.2\n",
      "No. Observations:                1155   AIC:                         1.629e+04\n",
      "Df Residuals:                    1148   BIC:                         1.633e+04\n",
      "Df Model:                           6                                         \n",
      "Covariance Type:            nonrobust                                         \n",
      "=======================================================================================\n",
      "                          coef    std err          t      P>|t|      [0.025      0.975]\n",
      "---------------------------------------------------------------------------------------\n",
      "const                 478.3047    273.609      1.748      0.081     -58.525    1015.134\n",
      "OpeningStock        -4.937e-05    1.5e-05     -3.289      0.001   -7.88e-05   -1.99e-05\n",
      "OpeningStockDensity     0.0282      0.269      0.105      0.917      -0.500       0.556\n",
      "Receipt             -3.402e-05   3.21e-05     -1.059      0.290    -9.7e-05     2.9e-05\n",
      "Disposal                0.0006   5.34e-05     10.972      0.000       0.000       0.001\n",
      "ClosingStockTemp        0.0329      0.089      0.370      0.711      -0.141       0.207\n",
      "ClosingStockDensity    -0.6217      0.264     -2.356      0.019      -1.139      -0.104\n",
      "==============================================================================\n",
      "Omnibus:                      114.293   Durbin-Watson:                   1.424\n",
      "Prob(Omnibus):                  0.000   Jarque-Bera (JB):              249.039\n",
      "Skew:                          -0.594   Prob(JB):                     8.35e-55\n",
      "Kurtosis:                       4.941   Cond. No.                     4.03e+07\n",
      "==============================================================================\n",
      "\n",
      "Notes:\n",
      "[1] Standard Errors assume that the covariance matrix of the errors is correctly specified.\n",
      "[2] The condition number is large, 4.03e+07. This might indicate that there are\n",
      "strong multicollinearity or other numerical problems.\n"
     ]
    }
   ],
   "source": [
    "xx = sm.add_constant(xx)\n",
    "model = sm.OLS(yy,xx)\n",
    "results = model.fit()\n",
    "print(results.summary())"
   ]
  },
  {
   "cell_type": "code",
   "execution_count": 294,
   "metadata": {},
   "outputs": [
    {
     "data": {
      "text/plain": [
       "LinearRegression()"
      ]
     },
     "execution_count": 294,
     "metadata": {},
     "output_type": "execute_result"
    }
   ],
   "source": [
    "from sklearn.model_selection import train_test_split\n",
    "XX_train, XX_test, yy_train, yy_test = train_test_split(xx, yy, test_size=0.7, random_state=101)\n",
    "from sklearn.linear_model import LinearRegression\n",
    "lm1 = LinearRegression()\n",
    "lm1.fit(XX_train,yy_train)"
   ]
  },
  {
   "cell_type": "code",
   "execution_count": 295,
   "metadata": {},
   "outputs": [],
   "source": [
    "_predictions = lm1.predict(XX_test)"
   ]
  },
  {
   "cell_type": "code",
   "execution_count": 296,
   "metadata": {},
   "outputs": [
    {
     "data": {
      "text/plain": [
       "<matplotlib.collections.PathCollection at 0x18eb20354c0>"
      ]
     },
     "execution_count": 296,
     "metadata": {},
     "output_type": "execute_result"
    },
    {
     "data": {
      "image/png": "[encoded data removed]",
      "text/plain": [
       "<Figure size 432x288 with 1 Axes>"
      ]
     },
     "metadata": {
      "needs_background": "light"
     },
     "output_type": "display_data"
    }
   ],
   "source": [
    "plt.scatter(yy_test,_predictions)"
   ]
  },
  {
   "cell_type": "code",
   "execution_count": 297,
   "metadata": {
    "scrolled": true
   },
   "outputs": [
    {
     "data": {
      "text/plain": [
       "array([[1.        , 0.00153845],\n",
       "       [0.00153845, 1.        ]])"
      ]
     },
     "execution_count": 297,
     "metadata": {},
     "output_type": "execute_result"
    }
   ],
   "source": [
    "np.corrcoef(yy_test,_predictions)"
   ]
  },
  {
   "cell_type": "code",
   "execution_count": 298,
   "metadata": {},
   "outputs": [
    {
     "name": "stdout",
     "output_type": "stream",
     "text": [
      "4623.919273293157\n"
     ]
    },
    {
     "data": {
      "text/html": [
       "<div>\n",
       "<style scoped>\n",
       "    .dataframe tbody tr th:only-of-type {\n",
       "        vertical-align: middle;\n",
       "    }\n",
       "\n",
       "    .dataframe tbody tr th {\n",
       "        vertical-align: top;\n",
       "    }\n",
       "\n",
       "    .dataframe thead th {\n",
       "        text-align: right;\n",
       "    }\n",
       "</style>\n",
       "<table border=\"1\" class=\"dataframe\">\n",
       "  <thead>\n",
       "    <tr style=\"text-align: right;\">\n",
       "      <th></th>\n",
       "      <th>Coefficient</th>\n",
       "    </tr>\n",
       "  </thead>\n",
       "  <tbody>\n",
       "    <tr>\n",
       "      <th>const</th>\n",
       "      <td>0.000000</td>\n",
       "    </tr>\n",
       "    <tr>\n",
       "      <th>OpeningStock</th>\n",
       "      <td>-0.000023</td>\n",
       "    </tr>\n",
       "    <tr>\n",
       "      <th>OpeningStockDensity</th>\n",
       "      <td>-5.330597</td>\n",
       "    </tr>\n",
       "    <tr>\n",
       "      <th>Receipt</th>\n",
       "      <td>-0.000038</td>\n",
       "    </tr>\n",
       "    <tr>\n",
       "      <th>Disposal</th>\n",
       "      <td>0.000426</td>\n",
       "    </tr>\n",
       "    <tr>\n",
       "      <th>ClosingStockTemp</th>\n",
       "      <td>-11.060452</td>\n",
       "    </tr>\n",
       "    <tr>\n",
       "      <th>ClosingStockDensity</th>\n",
       "      <td>-0.398082</td>\n",
       "    </tr>\n",
       "  </tbody>\n",
       "</table>\n",
       "</div>"
      ],
      "text/plain": [
       "                     Coefficient\n",
       "const                   0.000000\n",
       "OpeningStock           -0.000023\n",
       "OpeningStockDensity    -5.330597\n",
       "Receipt                -0.000038\n",
       "Disposal                0.000426\n",
       "ClosingStockTemp      -11.060452\n",
       "ClosingStockDensity    -0.398082"
      ]
     },
     "execution_count": 298,
     "metadata": {},
     "output_type": "execute_result"
    }
   ],
   "source": [
    "print(lm1.intercept_)\n",
    "coeff_df1 = pd.DataFrame(lm1.coef_,xx.columns,columns=['Coefficient'])\n",
    "coeff_df1"
   ]
  }
 ],
 "metadata": {
  "kernelspec": {
   "display_name": "Python 3",
   "language": "python",
   "name": "python3"
  },
  "language_info": {
   "codemirror_mode": {
    "name": "ipython",
    "version": 3
   },
   "file_extension": ".py",
   "mimetype": "text/x-python",
   "name": "python",
   "nbconvert_exporter": "python",
   "pygments_lexer": "ipython3",
   "version": "3.8.6"
  }
 },
 "nbformat": 4,
 "nbformat_minor": 4
}
